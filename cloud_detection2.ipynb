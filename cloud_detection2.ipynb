{
  "nbformat": 4,
  "nbformat_minor": 0,
  "metadata": {
    "colab": {
      "provenance": [],
      "gpuType": "T4"
    },
    "kernelspec": {
      "name": "python3",
      "display_name": "Python 3"
    },
    "language_info": {
      "name": "python"
    },
    "accelerator": "GPU",
    "widgets": {
      "application/vnd.jupyter.widget-state+json": {
        "ec54f496d5884874abbf0c5dacad3132": {
          "model_module": "@jupyter-widgets/controls",
          "model_name": "HBoxModel",
          "model_module_version": "1.5.0",
          "state": {
            "_dom_classes": [],
            "_model_module": "@jupyter-widgets/controls",
            "_model_module_version": "1.5.0",
            "_model_name": "HBoxModel",
            "_view_count": null,
            "_view_module": "@jupyter-widgets/controls",
            "_view_module_version": "1.5.0",
            "_view_name": "HBoxView",
            "box_style": "",
            "children": [
              "IPY_MODEL_885fee7daad3480593297b7883e368a0",
              "IPY_MODEL_42b9297f99824dcc9b4722d3985290a9",
              "IPY_MODEL_315a94004be64760af77f7ca3c21ec1c"
            ],
            "layout": "IPY_MODEL_780fca0680ef49bdb0614b297e3a97ce"
          }
        },
        "885fee7daad3480593297b7883e368a0": {
          "model_module": "@jupyter-widgets/controls",
          "model_name": "HTMLModel",
          "model_module_version": "1.5.0",
          "state": {
            "_dom_classes": [],
            "_model_module": "@jupyter-widgets/controls",
            "_model_module_version": "1.5.0",
            "_model_name": "HTMLModel",
            "_view_count": null,
            "_view_module": "@jupyter-widgets/controls",
            "_view_module_version": "1.5.0",
            "_view_name": "HTMLView",
            "description": "",
            "description_tooltip": null,
            "layout": "IPY_MODEL_74a230a27fe34c4bb533cf7d97c77168",
            "placeholder": "​",
            "style": "IPY_MODEL_e1d7a04cafc549ebbf622b54a2b39f16",
            "value": "Evaluating Model: 100%"
          }
        },
        "42b9297f99824dcc9b4722d3985290a9": {
          "model_module": "@jupyter-widgets/controls",
          "model_name": "FloatProgressModel",
          "model_module_version": "1.5.0",
          "state": {
            "_dom_classes": [],
            "_model_module": "@jupyter-widgets/controls",
            "_model_module_version": "1.5.0",
            "_model_name": "FloatProgressModel",
            "_view_count": null,
            "_view_module": "@jupyter-widgets/controls",
            "_view_module_version": "1.5.0",
            "_view_name": "ProgressView",
            "bar_style": "success",
            "description": "",
            "description_tooltip": null,
            "layout": "IPY_MODEL_3bd72de3efe84162a0058ceef8548b57",
            "max": 105,
            "min": 0,
            "orientation": "horizontal",
            "style": "IPY_MODEL_adee8f20a99a41f683bff40e11b5bb98",
            "value": 105
          }
        },
        "315a94004be64760af77f7ca3c21ec1c": {
          "model_module": "@jupyter-widgets/controls",
          "model_name": "HTMLModel",
          "model_module_version": "1.5.0",
          "state": {
            "_dom_classes": [],
            "_model_module": "@jupyter-widgets/controls",
            "_model_module_version": "1.5.0",
            "_model_name": "HTMLModel",
            "_view_count": null,
            "_view_module": "@jupyter-widgets/controls",
            "_view_module_version": "1.5.0",
            "_view_name": "HTMLView",
            "description": "",
            "description_tooltip": null,
            "layout": "IPY_MODEL_36434bcb20ac41e984e178f0e6beaafd",
            "placeholder": "​",
            "style": "IPY_MODEL_57a5792d33474c19ae715fc37a433e90",
            "value": " 105/105 [1:23:33&lt;00:00, 42.34s/it]"
          }
        },
        "780fca0680ef49bdb0614b297e3a97ce": {
          "model_module": "@jupyter-widgets/base",
          "model_name": "LayoutModel",
          "model_module_version": "1.2.0",
          "state": {
            "_model_module": "@jupyter-widgets/base",
            "_model_module_version": "1.2.0",
            "_model_name": "LayoutModel",
            "_view_count": null,
            "_view_module": "@jupyter-widgets/base",
            "_view_module_version": "1.2.0",
            "_view_name": "LayoutView",
            "align_content": null,
            "align_items": null,
            "align_self": null,
            "border": null,
            "bottom": null,
            "display": null,
            "flex": null,
            "flex_flow": null,
            "grid_area": null,
            "grid_auto_columns": null,
            "grid_auto_flow": null,
            "grid_auto_rows": null,
            "grid_column": null,
            "grid_gap": null,
            "grid_row": null,
            "grid_template_areas": null,
            "grid_template_columns": null,
            "grid_template_rows": null,
            "height": null,
            "justify_content": null,
            "justify_items": null,
            "left": null,
            "margin": null,
            "max_height": null,
            "max_width": null,
            "min_height": null,
            "min_width": null,
            "object_fit": null,
            "object_position": null,
            "order": null,
            "overflow": null,
            "overflow_x": null,
            "overflow_y": null,
            "padding": null,
            "right": null,
            "top": null,
            "visibility": null,
            "width": null
          }
        },
        "74a230a27fe34c4bb533cf7d97c77168": {
          "model_module": "@jupyter-widgets/base",
          "model_name": "LayoutModel",
          "model_module_version": "1.2.0",
          "state": {
            "_model_module": "@jupyter-widgets/base",
            "_model_module_version": "1.2.0",
            "_model_name": "LayoutModel",
            "_view_count": null,
            "_view_module": "@jupyter-widgets/base",
            "_view_module_version": "1.2.0",
            "_view_name": "LayoutView",
            "align_content": null,
            "align_items": null,
            "align_self": null,
            "border": null,
            "bottom": null,
            "display": null,
            "flex": null,
            "flex_flow": null,
            "grid_area": null,
            "grid_auto_columns": null,
            "grid_auto_flow": null,
            "grid_auto_rows": null,
            "grid_column": null,
            "grid_gap": null,
            "grid_row": null,
            "grid_template_areas": null,
            "grid_template_columns": null,
            "grid_template_rows": null,
            "height": null,
            "justify_content": null,
            "justify_items": null,
            "left": null,
            "margin": null,
            "max_height": null,
            "max_width": null,
            "min_height": null,
            "min_width": null,
            "object_fit": null,
            "object_position": null,
            "order": null,
            "overflow": null,
            "overflow_x": null,
            "overflow_y": null,
            "padding": null,
            "right": null,
            "top": null,
            "visibility": null,
            "width": null
          }
        },
        "e1d7a04cafc549ebbf622b54a2b39f16": {
          "model_module": "@jupyter-widgets/controls",
          "model_name": "DescriptionStyleModel",
          "model_module_version": "1.5.0",
          "state": {
            "_model_module": "@jupyter-widgets/controls",
            "_model_module_version": "1.5.0",
            "_model_name": "DescriptionStyleModel",
            "_view_count": null,
            "_view_module": "@jupyter-widgets/base",
            "_view_module_version": "1.2.0",
            "_view_name": "StyleView",
            "description_width": ""
          }
        },
        "3bd72de3efe84162a0058ceef8548b57": {
          "model_module": "@jupyter-widgets/base",
          "model_name": "LayoutModel",
          "model_module_version": "1.2.0",
          "state": {
            "_model_module": "@jupyter-widgets/base",
            "_model_module_version": "1.2.0",
            "_model_name": "LayoutModel",
            "_view_count": null,
            "_view_module": "@jupyter-widgets/base",
            "_view_module_version": "1.2.0",
            "_view_name": "LayoutView",
            "align_content": null,
            "align_items": null,
            "align_self": null,
            "border": null,
            "bottom": null,
            "display": null,
            "flex": null,
            "flex_flow": null,
            "grid_area": null,
            "grid_auto_columns": null,
            "grid_auto_flow": null,
            "grid_auto_rows": null,
            "grid_column": null,
            "grid_gap": null,
            "grid_row": null,
            "grid_template_areas": null,
            "grid_template_columns": null,
            "grid_template_rows": null,
            "height": null,
            "justify_content": null,
            "justify_items": null,
            "left": null,
            "margin": null,
            "max_height": null,
            "max_width": null,
            "min_height": null,
            "min_width": null,
            "object_fit": null,
            "object_position": null,
            "order": null,
            "overflow": null,
            "overflow_x": null,
            "overflow_y": null,
            "padding": null,
            "right": null,
            "top": null,
            "visibility": null,
            "width": null
          }
        },
        "adee8f20a99a41f683bff40e11b5bb98": {
          "model_module": "@jupyter-widgets/controls",
          "model_name": "ProgressStyleModel",
          "model_module_version": "1.5.0",
          "state": {
            "_model_module": "@jupyter-widgets/controls",
            "_model_module_version": "1.5.0",
            "_model_name": "ProgressStyleModel",
            "_view_count": null,
            "_view_module": "@jupyter-widgets/base",
            "_view_module_version": "1.2.0",
            "_view_name": "StyleView",
            "bar_color": null,
            "description_width": ""
          }
        },
        "36434bcb20ac41e984e178f0e6beaafd": {
          "model_module": "@jupyter-widgets/base",
          "model_name": "LayoutModel",
          "model_module_version": "1.2.0",
          "state": {
            "_model_module": "@jupyter-widgets/base",
            "_model_module_version": "1.2.0",
            "_model_name": "LayoutModel",
            "_view_count": null,
            "_view_module": "@jupyter-widgets/base",
            "_view_module_version": "1.2.0",
            "_view_name": "LayoutView",
            "align_content": null,
            "align_items": null,
            "align_self": null,
            "border": null,
            "bottom": null,
            "display": null,
            "flex": null,
            "flex_flow": null,
            "grid_area": null,
            "grid_auto_columns": null,
            "grid_auto_flow": null,
            "grid_auto_rows": null,
            "grid_column": null,
            "grid_gap": null,
            "grid_row": null,
            "grid_template_areas": null,
            "grid_template_columns": null,
            "grid_template_rows": null,
            "height": null,
            "justify_content": null,
            "justify_items": null,
            "left": null,
            "margin": null,
            "max_height": null,
            "max_width": null,
            "min_height": null,
            "min_width": null,
            "object_fit": null,
            "object_position": null,
            "order": null,
            "overflow": null,
            "overflow_x": null,
            "overflow_y": null,
            "padding": null,
            "right": null,
            "top": null,
            "visibility": null,
            "width": null
          }
        },
        "57a5792d33474c19ae715fc37a433e90": {
          "model_module": "@jupyter-widgets/controls",
          "model_name": "DescriptionStyleModel",
          "model_module_version": "1.5.0",
          "state": {
            "_model_module": "@jupyter-widgets/controls",
            "_model_module_version": "1.5.0",
            "_model_name": "DescriptionStyleModel",
            "_view_count": null,
            "_view_module": "@jupyter-widgets/base",
            "_view_module_version": "1.2.0",
            "_view_name": "StyleView",
            "description_width": ""
          }
        }
      }
    }
  },
  "cells": [
    {
      "cell_type": "markdown",
      "source": [
        "//content/drive/MyDrive/Colab Notebooks/cloud_detection.ipynb"
      ],
      "metadata": {
        "id": "yYCDexI1T-mn"
      }
    },
    {
      "cell_type": "code",
      "execution_count": null,
      "metadata": {
        "colab": {
          "base_uri": "https://localhost:8080/"
        },
        "id": "Chk0Hzk0PRVq",
        "outputId": "4fe09a0a-1bff-4ab0-ea87-4cf9bfeeda25"
      },
      "outputs": [
        {
          "output_type": "stream",
          "name": "stdout",
          "text": [
            "Drive already mounted at /content/drive; to attempt to forcibly remount, call drive.mount(\"/content/drive\", force_remount=True).\n"
          ]
        }
      ],
      "source": [
        "from google.colab import drive\n",
        "drive.mount('/content/drive')"
      ]
    },
    {
      "cell_type": "code",
      "source": [
        "import torch\n",
        "\n",
        "device = torch.device(\"cuda\" if torch.cuda.is_available() else \"cpu\")\n",
        "print(f\"🖥️  Device: {device}\")\n",
        "\n",
        "if device.type == \"cuda\":\n",
        "    print(f\"🚀 GPU: {torch.cuda.get_device_name(0)}\")\n",
        "    print(f\"🔧 CUDA Version: {torch.version.cuda}\")\n",
        "    print(f\"📦 Memory Allocated: {torch.cuda.memory_allocated() / 1024**2:.1f} MB\")\n",
        "else:\n",
        "    print(\"⚠️ WARNING: GPU is not enabled!\")\n"
      ],
      "metadata": {
        "id": "XnaNaA14Sf3x",
        "colab": {
          "base_uri": "https://localhost:8080/"
        },
        "outputId": "5640e04a-9961-4684-ee24-c9526c08ca9c"
      },
      "execution_count": null,
      "outputs": [
        {
          "output_type": "stream",
          "name": "stdout",
          "text": [
            "🖥️  Device: cuda\n",
            "🚀 GPU: Tesla T4\n",
            "🔧 CUDA Version: 12.6\n",
            "📦 Memory Allocated: 0.0 MB\n"
          ]
        }
      ]
    },
    {
      "cell_type": "code",
      "source": [
        "!pip install -q kaggle\n",
        "!pip install -q torch torchvision torchaudio --extra-index-url https://download.pytorch.org/whl/cu118\n",
        "!pip install -q albumentations==1.3.0 rasterio opencv-python matplotlib seaborn tqdm"
      ],
      "metadata": {
        "id": "cqcz2039VfmL"
      },
      "execution_count": null,
      "outputs": []
    },
    {
      "cell_type": "code",
      "source": [
        "# Install Kaggle API and other libraries needed\n",
        "!pip install -q kaggle torch torchvision albumentations rasterio matplotlib opencv-python tqdm\n",
        "\n",
        "# Make kaggle folder\n",
        "!mkdir -p ~/.kaggle"
      ],
      "metadata": {
        "id": "LmG1tu3_Vfi-"
      },
      "execution_count": null,
      "outputs": []
    },
    {
      "cell_type": "code",
      "source": [
        "# --- Install dependencies ---\n",
        "!pip install kagglehub rasterio albumentations==1.3.1 matplotlib scikit-learn torch torchvision tqdm --quiet\n",
        "\n",
        "# --- Imports ---\n",
        "import os\n",
        "import glob\n",
        "import numpy as np\n",
        "import matplotlib.pyplot as plt\n",
        "import rasterio\n",
        "import torch\n",
        "from torch.utils.data import Dataset, DataLoader\n",
        "from torchvision import transforms\n",
        "import albumentations as A\n",
        "from tqdm import tqdm\n",
        "import random\n",
        "\n",
        "print(\"✅ Libraries installed and imported successfully\")"
      ],
      "metadata": {
        "id": "PSPoJb41Vffy",
        "colab": {
          "base_uri": "https://localhost:8080/"
        },
        "outputId": "6a34a6ae-378f-4873-9993-2000a937ba7f"
      },
      "execution_count": null,
      "outputs": [
        {
          "output_type": "stream",
          "name": "stdout",
          "text": [
            "✅ Libraries installed and imported successfully\n"
          ]
        }
      ]
    },
    {
      "cell_type": "code",
      "source": [
        "# import kagglehub\n",
        "\n",
        "# # Download the 38-Cloud dataset\n",
        "# path = kagglehub.dataset_download(\"sorour/38cloud-cloud-segmentation-in-satellite-images\")\n",
        "# print(\"✅ Dataset downloaded to:\", path)\n",
        "\n",
        "# # # List a few files\n",
        "# # !ls \"$path\" | head -n 20\n"
      ],
      "metadata": {
        "id": "0spJYschVfc_",
        "colab": {
          "base_uri": "https://localhost:8080/"
        },
        "outputId": "7b86cfec-5f5c-4d49-9ab3-c7cdb1add688"
      },
      "execution_count": null,
      "outputs": [
        {
          "output_type": "stream",
          "name": "stdout",
          "text": [
            "Resuming download from 6592397312 bytes (6464244049 bytes left)...\n",
            "Resuming download from https://www.kaggle.com/api/v1/datasets/download/sorour/38cloud-cloud-segmentation-in-satellite-images?dataset_version_number=4 (6592397312/13056641361) bytes left.\n"
          ]
        },
        {
          "output_type": "stream",
          "name": "stderr",
          "text": [
            "100%|██████████| 12.2G/12.2G [04:51<00:00, 22.2MB/s]"
          ]
        },
        {
          "output_type": "stream",
          "name": "stdout",
          "text": [
            "Extracting files...\n"
          ]
        },
        {
          "output_type": "stream",
          "name": "stderr",
          "text": [
            "\n"
          ]
        },
        {
          "output_type": "stream",
          "name": "stdout",
          "text": [
            "✅ Dataset downloaded to: /root/.cache/kagglehub/datasets/sorour/38cloud-cloud-segmentation-in-satellite-images/versions/4\n"
          ]
        }
      ]
    },
    {
      "cell_type": "code",
      "source": [
        "# drive_destination = \"/content/drive/My Drive/Kaggle_Datasets/38-Cloud\"\n",
        "# os.makedirs(drive_destination, exist_ok=True) # Creates the folder if it doesn't exist\n",
        "\n",
        "# # --- 3. Move the Files ---\n",
        "# print(f\"🚚 Moving files from '{path}' to '{drive_destination}'...\")\n",
        "# !mv \"{path}\"/* \"{drive_destination}\"\n",
        "\n",
        "# print(\"✅ All files have been successfully moved to your Google Drive!\")"
      ],
      "metadata": {
        "colab": {
          "base_uri": "https://localhost:8080/"
        },
        "id": "ZPMCXyNp9Yje",
        "outputId": "1481d019-456d-4a0e-b2e7-4060903efc98"
      },
      "execution_count": null,
      "outputs": [
        {
          "output_type": "stream",
          "name": "stdout",
          "text": [
            "🚚 Moving files from '/root/.cache/kagglehub/datasets/sorour/38cloud-cloud-segmentation-in-satellite-images/versions/4' to '/content/drive/My Drive/Kaggle_Datasets/38-Cloud'...\n",
            "✅ All files have been successfully moved to your Google Drive!\n"
          ]
        }
      ]
    },
    {
      "cell_type": "code",
      "source": [
        "# import os\n",
        "\n",
        "# for root, dirs, files in os.walk(path):\n",
        "#     level = root.replace(path, '').count(os.sep)\n",
        "#     indent = ' ' * 2 * (level)\n",
        "#     print(f\"{indent}{os.path.basename(root)}/\")\n",
        "#     subindent = ' ' * 2 * (level + 1)\n",
        "#     for f in files[:5]:  # show first 5 files per folder\n",
        "#         print(f\"{subindent}{f}\")\n"
      ],
      "metadata": {
        "id": "_TCsa4aZVfZy"
      },
      "execution_count": null,
      "outputs": []
    },
    {
      "cell_type": "code",
      "source": [
        "# Base path to training data inside downloaded dataset\n",
        "path = \"/content/drive/My Drive/Kaggle_Datasets/38-Cloud\"\n",
        "base_train_path = os.path.join(path, '38-Cloud_training')\n",
        "\n",
        "train_red_path   = os.path.join(base_train_path, 'train_red')\n",
        "train_green_path = os.path.join(base_train_path, 'train_green')\n",
        "train_blue_path  = os.path.join(base_train_path, 'train_blue')\n",
        "train_gt_path    = os.path.join(base_train_path, 'train_gt')  # ground truth masks\n",
        "\n",
        "# Check how many files we have in each band/mask\n",
        "import glob\n",
        "\n",
        "n_red   = len(glob.glob(os.path.join(train_red_path, '*.TIF')))\n",
        "n_green = len(glob.glob(os.path.join(train_green_path, '*.TIF')))\n",
        "n_blue  = len(glob.glob(os.path.join(train_blue_path, '*.TIF')))\n",
        "n_masks = len(glob.glob(os.path.join(train_gt_path, '*.TIF')))\n",
        "\n",
        "print(f\"Red band patches:   {n_red}\")\n",
        "print(f\"Green band patches: {n_green}\")\n",
        "print(f\"Blue band patches:  {n_blue}\")\n",
        "print(f\"Masks (GT):         {n_masks}\")\n"
      ],
      "metadata": {
        "id": "FG9MG1feVfVq",
        "colab": {
          "base_uri": "https://localhost:8080/"
        },
        "outputId": "bea897b6-354e-4056-cc76-3d1ca191e1e9"
      },
      "execution_count": null,
      "outputs": [
        {
          "output_type": "stream",
          "name": "stdout",
          "text": [
            "Red band patches:   8400\n",
            "Green band patches: 8400\n",
            "Blue band patches:  8400\n",
            "Masks (GT):         8400\n"
          ]
        }
      ]
    },
    {
      "cell_type": "code",
      "source": [
        "\n",
        "\n",
        "# Pick a random patch from red folder\n",
        "red_files   = sorted(glob.glob(os.path.join(train_red_path, '*.TIF')))\n",
        "green_files = sorted(glob.glob(os.path.join(train_green_path, '*.TIF')))\n",
        "blue_files  = sorted(glob.glob(os.path.join(train_blue_path, '*.TIF')))\n",
        "mask_files  = sorted(glob.glob(os.path.join(train_gt_path, '*.TIF')))\n",
        "\n",
        "idx = random.randint(0, len(red_files)-1)\n",
        "\n",
        "# Read the bands\n",
        "with rasterio.open(red_files[idx]) as src:\n",
        "    red = src.read(1)\n",
        "with rasterio.open(green_files[idx]) as src:\n",
        "    green = src.read(1)\n",
        "with rasterio.open(blue_files[idx]) as src:\n",
        "    blue = src.read(1)\n",
        "\n",
        "# Stack to RGB\n",
        "rgb_img = np.dstack((red, green, blue)).astype(np.float32)\n",
        "rgb_img = (rgb_img - rgb_img.min()) / (rgb_img.max()-rgb_img.min())  # normalize to [0,1]\n",
        "\n",
        "# Read mask\n",
        "with rasterio.open(mask_files[idx]) as src:\n",
        "    mask = src.read(1)\n",
        "\n",
        "# Plot\n",
        "plt.figure(figsize=(10,5))\n",
        "plt.subplot(1,2,1)\n",
        "plt.imshow(rgb_img)\n",
        "plt.title('RGB Image Patch')\n",
        "plt.subplot(1,2,2)\n",
        "plt.imshow(mask, cmap='gray')\n",
        "plt.title('Cloud Mask')\n",
        "plt.show()"
      ],
      "metadata": {
        "id": "XzEiPjyFVfSl",
        "colab": {
          "base_uri": "https://localhost:8080/",
          "height": 504
        },
        "outputId": "16e0b33c-5120-4731-ecf6-a8d223a5c673"
      },
      "execution_count": null,
      "outputs": [
        {
          "output_type": "stream",
          "name": "stderr",
          "text": [
            "/usr/local/lib/python3.12/dist-packages/rasterio/__init__.py:356: NotGeoreferencedWarning: Dataset has no geotransform, gcps, or rpcs. The identity matrix will be returned.\n",
            "  dataset = DatasetReader(path, driver=driver, sharing=sharing, **kwargs)\n",
            "/tmp/ipython-input-35776508.py:19: RuntimeWarning: invalid value encountered in divide\n",
            "  rgb_img = (rgb_img - rgb_img.min()) / (rgb_img.max()-rgb_img.min())  # normalize to [0,1]\n"
          ]
        },
        {
          "output_type": "display_data",
          "data": {
            "text/plain": [
              "<Figure size 1000x500 with 2 Axes>"
            ],
            "image/png": "[encoded data removed]"
          },
          "metadata": {}
        }
      ]
    },
    {
      "cell_type": "markdown",
      "source": [
        "## Step 2 — PyTorch Dataset Class\n"
      ],
      "metadata": {
        "id": "w9xhnRycYkca"
      }
    },
    {
      "cell_type": "code",
      "source": [
        "import torch\n",
        "from torch.utils.data import Dataset, DataLoader\n",
        "from torchvision import transforms\n",
        "\n",
        "class CloudDataset(Dataset):\n",
        "    def __init__(self, red_files, green_files, blue_files, mask_files, transform=None):\n",
        "        self.red_files = red_files\n",
        "        self.green_files = green_files\n",
        "        self.blue_files = blue_files\n",
        "        self.mask_files = mask_files\n",
        "        self.transform = transform\n",
        "\n",
        "    def __len__(self):\n",
        "        return len(self.red_files)\n",
        "\n",
        "    def __getitem__(self, idx):\n",
        "        # Read image bands\n",
        "        with rasterio.open(self.red_files[idx]) as src:\n",
        "            red = src.read(1)\n",
        "        with rasterio.open(self.green_files[idx]) as src:\n",
        "            green = src.read(1)\n",
        "        with rasterio.open(self.blue_files[idx]) as src:\n",
        "            blue = src.read(1)\n",
        "\n",
        "        # Read the ground truth mask\n",
        "        with rasterio.open(self.mask_files[idx]) as src:\n",
        "            mask = src.read(1)\n",
        "\n",
        "        # Stack bands into an RGB image and normalize to [0, 1]\n",
        "        img = np.dstack((red, green, blue)).astype(np.float32)\n",
        "        img = (img - img.min()) / (img.max() - img.min() + 1e-6)\n",
        "\n",
        "        # ✅ **FIX:** Normalize mask values from [0, 255] to [0, 1]\n",
        "        mask = (mask / 255.0).astype(np.float32)\n",
        "\n",
        "        # Convert to torch tensors\n",
        "        img = torch.from_numpy(img).permute(2, 0, 1)  # (H, W, C) -> (C, H, W)\n",
        "        mask = torch.from_numpy(mask).unsqueeze(0)    # (H, W) -> (1, H, W)\n",
        "\n",
        "        return img, mask\n"
      ],
      "metadata": {
        "id": "G6d3w5qWVfPh"
      },
      "execution_count": null,
      "outputs": []
    },
    {
      "cell_type": "code",
      "source": [
        "from sklearn.model_selection import train_test_split\n",
        "from torch.utils.data import DataLoader\n",
        "\n",
        "# Split indices for training and validation sets\n",
        "train_idx, val_idx = train_test_split(range(len(red_files)), test_size=0.2, random_state=42)\n",
        "\n",
        "# Create training dataset\n",
        "train_dataset = CloudDataset(\n",
        "    [red_files[i] for i in train_idx],\n",
        "    [green_files[i] for i in train_idx],\n",
        "    [blue_files[i] for i in train_idx],\n",
        "    [mask_files[i] for i in train_idx]\n",
        ")\n",
        "\n",
        "# Create validation dataset\n",
        "val_dataset = CloudDataset(\n",
        "    [red_files[i] for i in val_idx],\n",
        "    [green_files[i] for i in val_idx],\n",
        "    [blue_files[i] for i in val_idx],\n",
        "    [mask_files[i] for i in val_idx]\n",
        ")\n",
        "\n",
        "\n",
        "# ✅ **FIX:** Set num_workers=0 to avoid multiprocessing errors in notebooks\n",
        "train_loader = DataLoader(train_dataset, batch_size=16, shuffle=True, num_workers=0)\n",
        "val_loader = DataLoader(val_dataset, batch_size=16, shuffle=False, num_workers=0)\n",
        "\n",
        "print(f\"Train batches: {len(train_loader)}, Validation batches: {len(val_loader)}\")"
      ],
      "metadata": {
        "id": "90cfn6WoVfMa",
        "colab": {
          "base_uri": "https://localhost:8080/"
        },
        "outputId": "83be235a-0932-4a20-fb30-708278459693"
      },
      "execution_count": null,
      "outputs": [
        {
          "output_type": "stream",
          "name": "stdout",
          "text": [
            "Train batches: 420, Validation batches: 105\n"
          ]
        }
      ]
    },
    {
      "cell_type": "code",
      "source": [
        "imgs, masks = next(iter(train_loader))\n",
        "print(\"Images shape:\", imgs.shape)   # [B,3,H,W]\n",
        "print(\"Masks shape:\", masks.shape)   # [B,1,H,W]\n",
        "\n",
        "# Plot first sample\n",
        "plt.figure(figsize=(8,4))\n",
        "plt.subplot(1,2,1)\n",
        "plt.imshow(imgs[0].permute(1,2,0))\n",
        "plt.title('RGB Patch')\n",
        "plt.subplot(1,2,2)\n",
        "plt.imshow(masks[0][0], cmap='gray')\n",
        "plt.title('Mask')\n",
        "plt.show()\n"
      ],
      "metadata": {
        "id": "uxqlDVDOVfJa",
        "colab": {
          "base_uri": "https://localhost:8080/",
          "height": 399
        },
        "outputId": "de2eccc2-6369-4795-d381-aea870069b64"
      },
      "execution_count": null,
      "outputs": [
        {
          "output_type": "stream",
          "name": "stdout",
          "text": [
            "Images shape: torch.Size([16, 3, 384, 384])\n",
            "Masks shape: torch.Size([16, 1, 384, 384])\n"
          ]
        },
        {
          "output_type": "display_data",
          "data": {
            "text/plain": [
              "<Figure size 800x400 with 2 Axes>"
            ],
            "image/png": "[encoded data removed]"
          },
          "metadata": {}
        }
      ]
    },
    {
      "cell_type": "markdown",
      "source": [
        "## Build the Model (UNet Lite)"
      ],
      "metadata": {
        "id": "EJ9Cj8OrY6qM"
      }
    },
    {
      "cell_type": "code",
      "source": [
        "import torch.nn as nn\n",
        "\n",
        "# Basic UNet block\n",
        "class DoubleConv(nn.Module):\n",
        "    def __init__(self, in_channels, out_channels):\n",
        "        super().__init__()\n",
        "        self.double_conv = nn.Sequential(\n",
        "            nn.Conv2d(in_channels, out_channels, 3, padding=1),\n",
        "            nn.BatchNorm2d(out_channels),\n",
        "            nn.ReLU(inplace=True),\n",
        "            nn.Conv2d(out_channels, out_channels, 3, padding=1),\n",
        "            nn.BatchNorm2d(out_channels),\n",
        "            nn.ReLU(inplace=True)\n",
        "        )\n",
        "\n",
        "    def forward(self, x):\n",
        "        return self.double_conv(x)\n",
        "\n",
        "class UNet(nn.Module):\n",
        "    def __init__(self, n_channels=3, n_classes=1):\n",
        "        super().__init__()\n",
        "        self.inc = DoubleConv(n_channels, 64)\n",
        "        self.down1 = nn.Sequential(nn.MaxPool2d(2), DoubleConv(64, 128))\n",
        "        self.down2 = nn.Sequential(nn.MaxPool2d(2), DoubleConv(128, 256))\n",
        "        self.down3 = nn.Sequential(nn.MaxPool2d(2), DoubleConv(256, 512))\n",
        "        self.up1 = nn.ConvTranspose2d(512, 256, kernel_size=2, stride=2)\n",
        "        self.conv1 = DoubleConv(512, 256)\n",
        "        self.up2 = nn.ConvTranspose2d(256, 128, kernel_size=2, stride=2)\n",
        "        self.conv2 = DoubleConv(256, 128)\n",
        "        self.up3 = nn.ConvTranspose2d(128, 64, kernel_size=2, stride=2)\n",
        "        self.conv3 = DoubleConv(128, 64)\n",
        "        self.outc = nn.Conv2d(64, n_classes, kernel_size=1)\n",
        "\n",
        "    def forward(self, x):\n",
        "        x1 = self.inc(x)\n",
        "        x2 = self.down1(x1)\n",
        "        x3 = self.down2(x2)\n",
        "        x4 = self.down3(x3)\n",
        "        x = self.up1(x4)\n",
        "        x = self.conv1(torch.cat([x, x3], dim=1))\n",
        "        x = self.up2(x)\n",
        "        x = self.conv2(torch.cat([x, x2], dim=1))\n",
        "        x = self.up3(x)\n",
        "        x = self.conv3(torch.cat([x, x1], dim=1))\n",
        "        logits = self.outc(x)\n",
        "        return logits\n",
        "\n",
        "# Instantiate model\n",
        "device = torch.device('cuda' if torch.cuda.is_available() else 'cpu')\n",
        "model = UNet().to(device)\n",
        "print(\"Model ready on\", device)\n"
      ],
      "metadata": {
        "id": "Pqhv8s4zVfGT",
        "colab": {
          "base_uri": "https://localhost:8080/"
        },
        "outputId": "856d695e-fbb0-4461-ebce-3b7003663e8a"
      },
      "execution_count": null,
      "outputs": [
        {
          "output_type": "stream",
          "name": "stdout",
          "text": [
            "Model ready on cuda\n"
          ]
        }
      ]
    },
    {
      "cell_type": "code",
      "source": [
        "# Check the loader:\n",
        "for images, masks in train_loader:\n",
        "    print(images.shape, masks.shape)\n",
        "    break  # Only print for the first batch\n"
      ],
      "metadata": {
        "id": "qW0TpfGyVfC9",
        "colab": {
          "base_uri": "https://localhost:8080/"
        },
        "outputId": "bf48b23a-a886-4d8c-d0b7-23f95cda84e8"
      },
      "execution_count": null,
      "outputs": [
        {
          "output_type": "stream",
          "name": "stdout",
          "text": [
            "torch.Size([16, 3, 384, 384]) torch.Size([16, 1, 384, 384])\n"
          ]
        }
      ]
    },
    {
      "cell_type": "code",
      "source": [
        "import torch\n",
        "import torch.nn as nn\n",
        "import torch.optim as optim\n",
        "from tqdm.auto import tqdm\n",
        "from torch.amp import autocast, GradScaler\n",
        "import warnings\n",
        "\n",
        "# Suppress non-critical warnings\n",
        "warnings.filterwarnings(\"ignore\", category=UserWarning)\n",
        "\n",
        "# --- DEVICE SETUP ---\n",
        "device = torch.device('cuda' if torch.cuda.is_available() else 'cpu')\n",
        "print(f\"Using device: {device}\")\n",
        "\n",
        "# --- INITIALIZE MODEL, LOSS, OPTIMIZER, & SCALER ---\n",
        "# Ensure model is defined and moved to the correct device\n",
        "# model = UNet().to(device) # This should already be defined in a previous cell\n",
        "model.to(device)\n",
        "\n",
        "criterion = nn.BCEWithLogitsLoss()\n",
        "optimizer = optim.Adam(model.parameters(), lr=1e-4)\n",
        "# Use GradScaler only if a CUDA device is available\n",
        "scaler = GradScaler(device='cuda')\n",
        "\n",
        "# --- METRIC FUNCTIONS (IoU & Dice) ---\n",
        "def compute_metrics(preds, masks, smooth=1e-6):\n",
        "    \"\"\"\n",
        "    Computes Dice and IoU scores for a batch of predictions and masks.\n",
        "    \"\"\"\n",
        "    # Sigmoid + threshold\n",
        "    preds = torch.sigmoid(preds)\n",
        "    preds = (preds > 0.5).float()\n",
        "    masks = masks.float()\n",
        "\n",
        "    # Flatten\n",
        "    preds = preds.view(preds.size(0), -1)\n",
        "    masks = masks.view(masks.size(0), -1)\n",
        "\n",
        "    # Intersection & sums\n",
        "    intersection = (preds * masks).sum(dim=1)\n",
        "    preds_sum = preds.sum(dim=1)\n",
        "    masks_sum = masks.sum(dim=1)\n",
        "    union = preds_sum + masks_sum - intersection\n",
        "\n",
        "    # Convert smooth to tensor on same device\n",
        "    smooth_tensor = torch.tensor(smooth, device=preds.device)\n",
        "\n",
        "    # Dice & IoU\n",
        "    dice = (2.0 * intersection + smooth_tensor) / (preds_sum + masks_sum + smooth_tensor)\n",
        "    iou = (intersection + smooth_tensor) / (union + smooth_tensor)\n",
        "\n",
        "    return dice.mean().item(), iou.mean().item()\n",
        "\n",
        "\n",
        "\n",
        "# --- TRAINING FUNCTION ---\n",
        "def train_one_epoch(model, loader, optimizer, criterion, scaler, device):\n",
        "    \"\"\"\n",
        "    Trains the model for one epoch.\n",
        "    \"\"\"\n",
        "    model.train()\n",
        "    running_loss = 0.0\n",
        "\n",
        "    for images, masks in tqdm(loader, desc=\"Training\", leave=False):\n",
        "        images, masks = images.to(device), masks.to(device)\n",
        "\n",
        "        optimizer.zero_grad()\n",
        "\n",
        "        # Use automatic mixed precision if a scaler is available (on CUDA)\n",
        "        if scaler:\n",
        "            with autocast(device_type='cuda', dtype=torch.float16):\n",
        "                outputs = model(images)\n",
        "                loss = criterion(outputs, masks)\n",
        "            scaler.scale(loss).backward()\n",
        "            scaler.step(optimizer)\n",
        "            scaler.update()\n",
        "        else: # For CPU\n",
        "            outputs = model(images)\n",
        "            loss = criterion(outputs, masks)\n",
        "            loss.backward()\n",
        "            optimizer.step()\n",
        "\n",
        "\n",
        "        running_loss += loss.item()\n",
        "\n",
        "    avg_loss = running_loss / len(loader)\n",
        "    return avg_loss\n",
        "\n",
        "# --- VALIDATION FUNCTION ---\n",
        "def validate(model, loader, criterion, device):\n",
        "    \"\"\"\n",
        "    Validates the model on the validation dataset.\n",
        "    \"\"\"\n",
        "    model.eval()\n",
        "    running_loss = 0.0\n",
        "    total_dice = 0.0\n",
        "    total_iou = 0.0\n",
        "\n",
        "    with torch.no_grad():\n",
        "        for images, masks in tqdm(loader, desc=\"Validating\", leave=False):\n",
        "            images, masks = images.to(device), masks.to(device)\n",
        "\n",
        "            # Use automatic mixed precision if on CUDA\n",
        "            if torch.cuda.is_available():\n",
        "                with autocast(device_type='cuda', dtype=torch.float16):\n",
        "                    outputs = model(images)\n",
        "                    loss = criterion(outputs, masks)\n",
        "            else: # For CPU\n",
        "                 outputs = model(images)\n",
        "                 loss = criterion(outputs, masks)\n",
        "\n",
        "\n",
        "            running_loss += loss.item()\n",
        "\n",
        "            dice, iou = compute_metrics(outputs, masks)\n",
        "            total_dice += dice\n",
        "            total_iou += iou\n",
        "\n",
        "    avg_loss = running_loss / len(loader)\n",
        "    avg_dice = total_dice / len(loader)\n",
        "    avg_iou = total_iou / len(loader)\n",
        "    return avg_loss, avg_iou, avg_dice\n",
        "\n",
        "# --- MAIN TRAINING LOOP ---\n",
        "epochs = 10\n",
        "best_val_iou = 0.0\n",
        "history = {'train_loss': [], 'val_loss': [], 'val_iou': [], 'val_dice': []}\n",
        "model_save_path = '/content/drive/MyDrive/colab_models/best_model.pth'\n",
        "\n",
        "\n",
        "# for epoch in range(1, epochs + 1):\n",
        "#     print(f\"\\n📘 Epoch {epoch}/{epochs}\")\n",
        "\n",
        "#     train_loss = train_one_epoch(model, train_loader, optimizer, criterion, scaler, device)\n",
        "#     history['train_loss'].append(train_loss)\n",
        "#     print(f\"✅ Train Loss: {train_loss:.4f}\")\n",
        "\n",
        "#     val_loss, val_iou, val_dice = validate(model, val_loader, criterion, device)\n",
        "#     history['val_loss'].append(val_loss)\n",
        "#     history['val_iou'].append(val_iou)\n",
        "#     history['val_dice'].append(val_dice)\n",
        "#     print(f\"🔍 Val Loss: {val_loss:.4f} | IoU: {val_iou:.4f} | Dice: {val_dice:.4f}\")\n",
        "\n",
        "#     # Save the model if it has the best validation IoU so far\n",
        "#     if val_iou > best_val_iou:\n",
        "#         best_val_iou = val_iou\n",
        "#         torch.save(model.state_dict(), model_save_path)\n",
        "#         print(f\"💾 Best model saved with IoU: {best_val_iou:.4f}\")\n",
        "\n",
        "#     # Clear CUDA cache to free up memory\n",
        "#     if torch.cuda.is_available():\n",
        "#         torch.cuda.empty_cache()\n",
        "\n",
        "print(\"\\n🏁 Training Complete!\")"
      ],
      "metadata": {
        "id": "bGDQQOWPVe_6",
        "colab": {
          "base_uri": "https://localhost:8080/"
        },
        "outputId": "c510df92-a9cf-46cb-d39a-fd23e7579832"
      },
      "execution_count": null,
      "outputs": [
        {
          "output_type": "stream",
          "name": "stdout",
          "text": [
            "Using device: cuda\n",
            "\n",
            "🏁 Training Complete!\n"
          ]
        }
      ]
    },
    {
      "cell_type": "code",
      "source": [
        "pred = torch.tensor([[[[0,1],[1,0]]]], dtype=torch.float)\n",
        "mask = torch.tensor([[[[1,1],[0,0]]]], dtype=torch.float)\n",
        "dice, iou = compute_metrics(pred, mask)\n",
        "print(\"dice = \",dice, \"\\nIOU = \", iou)"
      ],
      "metadata": {
        "id": "BcTViMaTVe80",
        "colab": {
          "base_uri": "https://localhost:8080/"
        },
        "outputId": "c9383e06-d6b2-4788-f44f-2d37b2d95dc3"
      },
      "execution_count": null,
      "outputs": [
        {
          "output_type": "stream",
          "name": "stdout",
          "text": [
            "dice =  0.5000001192092896 \n",
            "IOU =  0.3333335518836975\n"
          ]
        }
      ]
    },
    {
      "cell_type": "code",
      "source": [
        "print(\"Mask min:\", masks.min().item(), \"Mask max:\", masks.max().item())\n",
        "\n",
        "with torch.no_grad():\n",
        "    out = model(images.to(device))\n",
        "print(\"Output min:\", out.min().item(), \"Output max:\", out.max().item())\n"
      ],
      "metadata": {
        "id": "dbNAVuTNVe52",
        "colab": {
          "base_uri": "https://localhost:8080/"
        },
        "outputId": "8b9b9e87-288f-4993-edaf-3e438822c90e"
      },
      "execution_count": null,
      "outputs": [
        {
          "output_type": "stream",
          "name": "stdout",
          "text": [
            "Mask min: 0.0 Mask max: 1.0\n",
            "Output min: -6.533498764038086 Output max: 4.180474758148193\n"
          ]
        }
      ]
    },
    {
      "cell_type": "code",
      "source": [
        "import torch\n",
        "import numpy as np\n",
        "from tqdm.auto import tqdm\n",
        "import matplotlib.pyplot as plt\n",
        "import seaborn as sns\n",
        "from sklearn.metrics import confusion_matrix\n",
        "\n",
        "def evaluate_all_in_one(\n",
        "    model, loader, device, criterion=None, model_path='/content/drive/MyDrive/colab_models/best_model.pth',\n",
        "    history=None, thresholds=np.linspace(0.1,0.9,9)\n",
        "):\n",
        "    \"\"\"\n",
        "    All-in-one evaluation:\n",
        "    - Loss, Pixel Accuracy\n",
        "    - Global & Mean IoU/Dice\n",
        "    - Precision, Recall, F1\n",
        "    - Confusion Matrix\n",
        "    - IoU/Dice/Loss curves over epochs (if history provided)\n",
        "    - Threshold sweep for IoU\n",
        "    \"\"\"\n",
        "\n",
        "    # --- Load best model weights ---\n",
        "    try:\n",
        "        model.load_state_dict(torch.load(model_path, map_location=device))\n",
        "        print(f\"✅ Best model weights ('{model_path}') loaded successfully.\")\n",
        "    except FileNotFoundError:\n",
        "        print(f\"⚠️ '{model_path}' not found. Ensure training was completed.\")\n",
        "        return\n",
        "\n",
        "    model.to(device)\n",
        "    model.eval()\n",
        "\n",
        "    all_preds_logits = []\n",
        "    all_preds = []\n",
        "    all_targets = []\n",
        "    total_loss = 0.0\n",
        "    total_batches = 0\n",
        "\n",
        "    with torch.no_grad():\n",
        "        for images, masks in tqdm(loader, desc=\"Evaluating Model\"):\n",
        "            images = images.to(device, dtype=torch.float)\n",
        "            masks = masks.to(device, dtype=torch.float)\n",
        "\n",
        "            outputs = model(images)\n",
        "            probs = torch.sigmoid(outputs)\n",
        "\n",
        "            preds = (probs > 0.5).float()\n",
        "\n",
        "            all_preds_logits.append(probs.cpu())\n",
        "            all_preds.append(preds.cpu())\n",
        "            all_targets.append(masks.cpu())\n",
        "\n",
        "            if criterion is not None:\n",
        "                loss = criterion(outputs, masks)\n",
        "                total_loss += loss.item()\n",
        "                total_batches += 1\n",
        "\n",
        "    all_preds_logits = torch.cat(all_preds_logits, dim=0)\n",
        "    all_preds = torch.cat(all_preds, dim=0)\n",
        "    all_targets = torch.cat(all_targets, dim=0)\n",
        "\n",
        "    # --- Metrics ---\n",
        "    avg_loss = total_loss / total_batches if total_batches > 0 else None\n",
        "\n",
        "    # Pixel accuracy\n",
        "    correct = (all_preds == all_targets).sum().item()\n",
        "    total = all_targets.numel()\n",
        "    pixel_accuracy = (correct / total) * 100\n",
        "\n",
        "    # Flatten for global metrics\n",
        "    preds_flat = all_preds.view(-1)\n",
        "    targets_flat = all_targets.view(-1)\n",
        "\n",
        "    intersection_global = (preds_flat * targets_flat).sum().item()\n",
        "    union_global = preds_flat.sum().item() + targets_flat.sum().item() - intersection_global\n",
        "    iou_global = (intersection_global + 1e-6) / (union_global + 1e-6)\n",
        "    dice_global = (2. * intersection_global + 1e-6) / \\\n",
        "        (preds_flat.sum().item() + targets_flat.sum().item() + 1e-6)\n",
        "\n",
        "    # Mean IoU/Dice per image\n",
        "    intersection = (all_preds * all_targets).sum(dim=(1,2,3))\n",
        "    union = all_preds.sum(dim=(1,2,3)) + all_targets.sum(dim=(1,2,3)) - intersection\n",
        "    iou_mean = ((intersection + 1e-6) / (union + 1e-6)).mean().item()\n",
        "\n",
        "    dice_mean = ((2 * intersection + 1e-6) /\n",
        "                 (all_preds.sum(dim=(1,2,3)) + all_targets.sum(dim=(1,2,3)) + 1e-6)).mean().item()\n",
        "\n",
        "    # Precision, Recall, F1 (pixel-wise)\n",
        "    tp = (preds_flat * targets_flat).sum().item()\n",
        "    fp = ((preds_flat == 1) & (targets_flat == 0)).sum().item()\n",
        "    fn = ((preds_flat == 0) & (targets_flat == 1)).sum().item()\n",
        "    precision = tp / (tp + fp + 1e-6)\n",
        "    recall = tp / (tp + fn + 1e-6)\n",
        "    f1_score = 2 * precision * recall / (precision + recall + 1e-6)\n",
        "\n",
        "    # --- Confusion Matrix ---\n",
        "    cm = confusion_matrix(targets_flat.numpy(), preds_flat.numpy(), labels=[0,1])\n",
        "    plt.figure(figsize=(5,4))\n",
        "    sns.heatmap(cm, annot=True, fmt='d', cmap='Blues', xticklabels=[0,1], yticklabels=[0,1])\n",
        "    plt.xlabel('Predicted')\n",
        "    plt.ylabel('True')\n",
        "    plt.title('Confusion Matrix (pixels)')\n",
        "    plt.show()\n",
        "\n",
        "    # --- Threshold sweep IoU ---\n",
        "    iou_vs_threshold = []\n",
        "    for t in thresholds:\n",
        "        preds_t = (all_preds_logits > t).float().view(-1)\n",
        "        inter = (preds_t * targets_flat).sum().item()\n",
        "        uni = preds_t.sum().item() + targets_flat.sum().item() - inter\n",
        "        iou_vs_threshold.append((t, (inter + 1e-6) / (uni + 1e-6)))\n",
        "    plt.figure(figsize=(6,4))\n",
        "    plt.plot([x[0] for x in iou_vs_threshold], [x[1] for x in iou_vs_threshold], marker='o')\n",
        "    plt.xlabel('Threshold')\n",
        "    plt.ylabel('IoU')\n",
        "    plt.title('IoU vs Threshold')\n",
        "    plt.grid()\n",
        "    plt.show()\n",
        "\n",
        "    # --- History curves if provided ---\n",
        "    if history is not None:\n",
        "        plt.figure(figsize=(6,4))\n",
        "        if 'val_loss' in history and 'train_loss' in history:\n",
        "            plt.plot(history['train_loss'], label='Train Loss')\n",
        "            plt.plot(history['val_loss'], label='Val Loss')\n",
        "        if 'val_iou' in history:\n",
        "            plt.plot(history['val_iou'], label='Val IoU')\n",
        "        if 'val_dice' in history:\n",
        "            plt.plot(history['val_dice'], label='Val Dice')\n",
        "        plt.xlabel('Epoch')\n",
        "        plt.title('Training History')\n",
        "        plt.legend()\n",
        "        plt.grid()\n",
        "        plt.show()\n",
        "\n",
        "    # --- Final report ---\n",
        "    print(\"\\n--- Final Performance Report ---\")\n",
        "    if avg_loss is not None:\n",
        "        print(f\"📉 Average Loss:          {avg_loss:.4f}\")\n",
        "    print(f\"🎯 Pixel Accuracy:         {pixel_accuracy:.2f}%\")\n",
        "    print(f\"📏 Precision:              {precision:.4f}\")\n",
        "    print(f\"📏 Recall:                 {recall:.4f}\")\n",
        "    print(f\"🎲 F1 Score:               {f1_score:.4f}\")\n",
        "    print(\"\\n📐 IoU Scores:\")\n",
        "    print(f\"    - Global IoU:          {iou_global:.4f}\")\n",
        "    print(f\"    - Mean IoU (per image):{iou_mean:.4f}\")\n",
        "    print(\"\\n🎲 Dice Scores:\")\n",
        "    print(f\"    - Global Dice:         {dice_global:.4f}\")\n",
        "    print(f\"    - Mean Dice (per image):{dice_mean:.4f}\")\n",
        "    print(\"------------------------------\")\n",
        "\n",
        "    return {\n",
        "        'avg_loss': avg_loss,\n",
        "        'pixel_accuracy': pixel_accuracy,\n",
        "        'precision': precision,\n",
        "        'recall': recall,\n",
        "        'f1_score': f1_score,\n",
        "        'iou_global': iou_global,\n",
        "        'dice_global': dice_global,\n",
        "        'iou_mean': iou_mean,\n",
        "        'dice_mean': dice_mean,\n",
        "        'iou_vs_threshold': iou_vs_threshold\n",
        "    }\n",
        "\n",
        "# --- Usage ---\n",
        "criterion = torch.nn.BCEWithLogitsLoss()\n",
        "history = None\n",
        "results = evaluate_all_in_one(model, val_loader, device, criterion=criterion, history=history)\n"
      ],
      "metadata": {
        "id": "NBeQMps3Ve20",
        "colab": {
          "base_uri": "https://localhost:8080/",
          "height": 66,
          "referenced_widgets": [
            "ec54f496d5884874abbf0c5dacad3132",
            "885fee7daad3480593297b7883e368a0",
            "42b9297f99824dcc9b4722d3985290a9",
            "315a94004be64760af77f7ca3c21ec1c",
            "780fca0680ef49bdb0614b297e3a97ce",
            "74a230a27fe34c4bb533cf7d97c77168",
            "e1d7a04cafc549ebbf622b54a2b39f16",
            "3bd72de3efe84162a0058ceef8548b57",
            "adee8f20a99a41f683bff40e11b5bb98",
            "36434bcb20ac41e984e178f0e6beaafd",
            "57a5792d33474c19ae715fc37a433e90"
          ]
        },
        "outputId": "23400063-d148-40b3-81e6-071acf85bf05"
      },
      "execution_count": null,
      "outputs": [
        {
          "output_type": "stream",
          "name": "stdout",
          "text": [
            "✅ Best model weights ('/content/drive/MyDrive/colab_models/best_model.pth') loaded successfully.\n"
          ]
        },
        {
          "output_type": "display_data",
          "data": {
            "text/plain": [
              "Evaluating Model:   0%|          | 0/105 [00:00<?, ?it/s]"
            ],
            "application/vnd.jupyter.widget-view+json": {
              "version_major": 2,
              "version_minor": 0,
              "model_id": "ec54f496d5884874abbf0c5dacad3132"
            }
          },
          "metadata": {}
        }
      ]
    },
    {
      "cell_type": "code",
      "source": [
        "import matplotlib.pyplot as plt\n",
        "import torch\n",
        "import random\n",
        "import numpy as np\n",
        "\n",
        "def visualize_predictions(model, loader, device, num_samples=4):\n",
        "    \"\"\"\n",
        "    Loads the best model and visualizes its predictions on a few random samples.\n",
        "    \"\"\"\n",
        "    # --- 1. Load the best model weights ---\n",
        "    try:\n",
        "        model.load_state_dict(torch.load('/content/drive/MyDrive/colab_models/best_model.pth', map_location=device))\n",
        "        print(\"✅ Best model weights loaded for visualization.\")\n",
        "    except FileNotFoundError:\n",
        "        print(\"⚠️ 'best_model.pth' not found. Cannot visualize predictions.\")\n",
        "        return\n",
        "\n",
        "    model.to(device)\n",
        "    model.eval()\n",
        "\n",
        "    # --- 2. Get a batch of data ---\n",
        "    images, masks = next(iter(loader))\n",
        "\n",
        "    # --- 3. Run model inference ---\n",
        "    with torch.no_grad():\n",
        "        outputs = model(images.to(device))\n",
        "        # Convert logits to binary predictions\n",
        "        preds = (torch.sigmoid(outputs) > 0.5).float()\n",
        "\n",
        "    # Move data to CPU for plotting\n",
        "    images = images.cpu()\n",
        "    masks = masks.cpu()\n",
        "    preds = preds.cpu()\n",
        "\n",
        "    # --- 4. Plot the results ---\n",
        "    plt.figure(figsize=(15, num_samples * 5))\n",
        "\n",
        "    # Get random indices from the batch\n",
        "    indices = random.sample(range(len(images)), min(num_samples, len(images)))\n",
        "\n",
        "    for i, idx in enumerate(indices):\n",
        "        # Original Image\n",
        "        plt.subplot(num_samples, 3, i * 3 + 1)\n",
        "        # Permute from (C, H, W) to (H, W, C) for displaying\n",
        "        image_to_show = images[idx].permute(1, 2, 0)\n",
        "        plt.imshow(image_to_show)\n",
        "        plt.title(f\"Original Image #{idx}\")\n",
        "        plt.axis('off')\n",
        "\n",
        "        # Ground Truth Mask\n",
        "        plt.subplot(num_samples, 3, i * 3 + 2)\n",
        "        # Squeeze the channel dimension (1, H, W) -> (H, W)\n",
        "        mask_to_show = masks[idx].squeeze()\n",
        "        plt.imshow(mask_to_show, cmap='gray')\n",
        "        plt.title(\"Ground Truth Mask\")\n",
        "        plt.axis('off')\n",
        "\n",
        "        # Predicted Mask\n",
        "        plt.subplot(num_samples, 3, i * 3 + 3)\n",
        "        pred_to_show = preds[idx].squeeze()\n",
        "        plt.imshow(pred_to_show, cmap='gray')\n",
        "        plt.title(\"Predicted Mask\")\n",
        "        plt.axis('off')\n",
        "\n",
        "    plt.tight_layout()\n",
        "    plt.show()\n",
        "\n",
        "# --- How to use the function ---\n",
        "# Make sure 'model' and 'val_loader' are defined from your previous cells.\n",
        "visualize_predictions(model, val_loader, device)"
      ],
      "metadata": {
        "id": "0BgxeY_uVe0K",
        "colab": {
          "base_uri": "https://localhost:8080/",
          "height": 176
        },
        "outputId": "fde512dc-f14e-47c8-c960-557d28ce5fed"
      },
      "execution_count": null,
      "outputs": [
        {
          "output_type": "error",
          "ename": "NameError",
          "evalue": "name 'model' is not defined",
          "traceback": [
            "\u001b[0;31m---------------------------------------------------------------------------\u001b[0m",
            "\u001b[0;31mNameError\u001b[0m                                 Traceback (most recent call last)",
            "\u001b[0;32m/tmp/ipython-input-3985434671.py\u001b[0m in \u001b[0;36m<cell line: 0>\u001b[0;34m()\u001b[0m\n\u001b[1;32m     68\u001b[0m \u001b[0;31m# --- How to use the function ---\u001b[0m\u001b[0;34m\u001b[0m\u001b[0;34m\u001b[0m\u001b[0m\n\u001b[1;32m     69\u001b[0m \u001b[0;31m# Make sure 'model' and 'val_loader' are defined from your previous cells.\u001b[0m\u001b[0;34m\u001b[0m\u001b[0;34m\u001b[0m\u001b[0m\n\u001b[0;32m---> 70\u001b[0;31m \u001b[0mvisualize_predictions\u001b[0m\u001b[0;34m(\u001b[0m\u001b[0mmodel\u001b[0m\u001b[0;34m,\u001b[0m \u001b[0mval_loader\u001b[0m\u001b[0;34m,\u001b[0m \u001b[0mdevice\u001b[0m\u001b[0;34m)\u001b[0m\u001b[0;34m\u001b[0m\u001b[0;34m\u001b[0m\u001b[0m\n\u001b[0m",
            "\u001b[0;31mNameError\u001b[0m: name 'model' is not defined"
          ]
        }
      ]
    },
    {
      "cell_type": "markdown",
      "source": [
        "## Confusion matrix"
      ],
      "metadata": {
        "id": "4R4-5H1FZjTP"
      }
    },
    {
      "cell_type": "code",
      "source": [
        "#gemini\n",
        "import torch\n",
        "import numpy as np\n",
        "import seaborn as sns\n",
        "import matplotlib.pyplot as plt\n",
        "from sklearn.metrics import classification_report, confusion_matrix\n",
        "from tqdm.auto import tqdm\n",
        "\n",
        "def generate_detailed_report(model, loader, device):\n",
        "    \"\"\"\n",
        "    Generates a detailed classification report and a confusion matrix heatmap.\n",
        "    \"\"\"\n",
        "    # --- Load the best model weights ---\n",
        "    try:\n",
        "        model.load_state_dict(torch.load('/content/drive/MyDrive/colab_models/best_model.pth', map_location=device))\n",
        "        print(\"✅ Best model weights loaded successfully.\")\n",
        "    except FileNotFoundError:\n",
        "        print(\"⚠️ 'best_model.pth' not found.\")\n",
        "        return\n",
        "\n",
        "    model.to(device)\n",
        "    model.eval()\n",
        "\n",
        "    all_preds = []\n",
        "    all_targets = []\n",
        "\n",
        "    # --- Get predictions for the entire dataset ---\n",
        "    with torch.no_grad():\n",
        "        for images, masks in tqdm(loader, desc=\"Generating Predictions for Report\"):\n",
        "            images = images.to(device)\n",
        "            outputs = model(images)\n",
        "            preds = (torch.sigmoid(outputs) > 0.5).float()\n",
        "            all_preds.append(preds.cpu())\n",
        "            all_targets.append(masks.cpu())\n",
        "\n",
        "    # Concatenate and flatten all tensors\n",
        "    preds_flat = torch.cat(all_preds, dim=0).view(-1).numpy().astype(int)\n",
        "    targets_flat = torch.cat(all_targets, dim=0).view(-1).numpy().astype(int)\n",
        "\n",
        "    # --- 1. Generate and print the Classification Report ---\n",
        "    print(\"\\n--- Pixel-wise Classification Report ---\")\n",
        "    class_names = ['Not Cloud', 'Cloud']\n",
        "    report = classification_report(targets_flat, preds_flat, target_names=class_names)\n",
        "    print(report)\n",
        "\n",
        "    # --- 2. Generate and plot the Confusion Matrix ---\n",
        "    print(\"\\n--- Confusion Matrix ---\")\n",
        "    cm = confusion_matrix(targets_flat, preds_flat)\n",
        "    plt.figure(figsize=(8, 6))\n",
        "    sns.heatmap(cm, annot=True, fmt='d', cmap='Blues',\n",
        "                xticklabels=class_names, yticklabels=class_names)\n",
        "    plt.xlabel('Predicted Label')\n",
        "    plt.ylabel('True Label')\n",
        "    plt.title('Confusion Matrix')\n",
        "    plt.show()\n",
        "\n",
        "# --- How to use ---\n",
        "# Assumes 'model', 'val_loader', and 'device' are defined\n",
        "generate_detailed_report(model, val_loader, device)"
      ],
      "metadata": {
        "id": "UXqPL6rFZlGc"
      },
      "execution_count": null,
      "outputs": []
    },
    {
      "cell_type": "code",
      "source": [
        "#gpt\n",
        "import torch\n",
        "import numpy as np\n",
        "import matplotlib.pyplot as plt\n",
        "from sklearn.metrics import confusion_matrix, ConfusionMatrixDisplay\n",
        "\n",
        "def compute_confusion_matrix(preds, masks):\n",
        "    \"\"\"\n",
        "    Compute pixel-level confusion matrix for binary segmentation.\n",
        "    preds: raw model output (logits or probs)\n",
        "    masks: ground truth mask\n",
        "    \"\"\"\n",
        "    # Apply sigmoid + threshold\n",
        "    preds = torch.sigmoid(preds)\n",
        "    preds = (preds > 0.5).float()\n",
        "    masks = masks.float()\n",
        "\n",
        "    # Flatten both\n",
        "    preds_flat = preds.view(-1).cpu().numpy()\n",
        "    masks_flat = masks.view(-1).cpu().numpy()\n",
        "\n",
        "    # Compute confusion matrix\n",
        "    cm = confusion_matrix(masks_flat, preds_flat, labels=[0, 1])\n",
        "    return cm\n",
        "\n",
        "def plot_confusion_matrix(cm):\n",
        "    \"\"\"\n",
        "    Plot a confusion matrix.\n",
        "    \"\"\"\n",
        "    disp = ConfusionMatrixDisplay(confusion_matrix=cm, display_labels=[\"Background\", \"Cloud\"])\n",
        "    disp.plot(cmap=plt.cm.Blues, values_format='d')\n",
        "    plt.title(\"Pixel-Level Confusion Matrix\")\n",
        "    plt.show()\n",
        "\n",
        "# Example usage after getting predictions:\n",
        "preds = model(images)\n",
        "cm = compute_confusion_matrix(preds, masks)\n",
        "plot_confusion_matrix(cm)\n"
      ],
      "metadata": {
        "id": "3kJ-RmvWZlCw"
      },
      "execution_count": null,
      "outputs": []
    },
    {
      "cell_type": "markdown",
      "source": [
        "## Error Map"
      ],
      "metadata": {
        "id": "dDhawdfSZsYH"
      }
    },
    {
      "cell_type": "code",
      "source": [
        "#gemini\n",
        "import torch\n",
        "import numpy as np\n",
        "import matplotlib.pyplot as plt\n",
        "import random\n",
        "\n",
        "def visualize_error_map(model, loader, device, num_samples=3):\n",
        "    \"\"\"\n",
        "    Visualizes the model's errors on random samples.\n",
        "    \"\"\"\n",
        "    # --- Load the best model weights ---\n",
        "    try:\n",
        "        model.load_state_dict(torch.load('/content/drive/MyDrive/colab_models/best_model.pth', map_location=device))\n",
        "        print(\"✅ Best model weights loaded successfully for error mapping.\")\n",
        "    except FileNotFoundError:\n",
        "        print(\"⚠️ 'best_model.pth' not found.\")\n",
        "        return\n",
        "\n",
        "    model.to(device)\n",
        "    model.eval()\n",
        "\n",
        "    images, masks = next(iter(loader))\n",
        "\n",
        "    with torch.no_grad():\n",
        "        outputs = model(images.to(device))\n",
        "        preds = (torch.sigmoid(outputs) > 0.5).cpu().float()\n",
        "\n",
        "    images = images.cpu()\n",
        "    masks = masks.cpu()\n",
        "\n",
        "    indices = random.sample(range(len(images)), min(num_samples, len(images)))\n",
        "\n",
        "    for idx in indices:\n",
        "        pred_mask = preds[idx].squeeze()\n",
        "        true_mask = masks[idx].squeeze()\n",
        "\n",
        "        # Create the error map\n",
        "        # True Negative (TN): Correct Background (pred=0, true=0) -> black\n",
        "        # True Positive (TP): Correct Cloud (pred=1, true=1) -> white\n",
        "        # False Positive (FP): Wrongly Predicted Cloud (pred=1, true=0) -> red\n",
        "        # False Negative (FN): Missed Cloud (pred=0, true=1) -> blue\n",
        "\n",
        "        error_map = torch.zeros(true_mask.shape[0], true_mask.shape[1], 3)\n",
        "\n",
        "        # TP (white)\n",
        "        error_map[(pred_mask == 1) & (true_mask == 1)] = torch.tensor([1, 1, 1])\n",
        "        # FP (red)\n",
        "        error_map[(pred_mask == 1) & (true_mask == 0)] = torch.tensor([1, 0, 0])\n",
        "        # FN (blue)\n",
        "        error_map[(pred_mask == 0) & (true_mask == 1)] = torch.tensor([0, 0, 1])\n",
        "\n",
        "        # Plotting\n",
        "        plt.figure(figsize=(18, 5))\n",
        "\n",
        "        plt.subplot(1, 4, 1)\n",
        "        plt.imshow(images[idx].permute(1, 2, 0))\n",
        "        plt.title(\"Original Image\")\n",
        "        plt.axis('off')\n",
        "\n",
        "        plt.subplot(1, 4, 2)\n",
        "        plt.imshow(true_mask, cmap='gray')\n",
        "        plt.title(\"Ground Truth\")\n",
        "        plt.axis('off')\n",
        "\n",
        "        plt.subplot(1, 4, 3)\n",
        "        plt.imshow(pred_mask, cmap='gray')\n",
        "        plt.title(\"Model Prediction\")\n",
        "        plt.axis('off')\n",
        "\n",
        "        plt.subplot(1, 4, 4)\n",
        "        plt.imshow(error_map)\n",
        "        plt.title(\"Error Map (Red=FP, Blue=FN)\")\n",
        "        plt.axis('off')\n",
        "\n",
        "        plt.show()\n",
        "\n",
        "# --- How to use ---\n",
        "visualize_error_map(model, val_loader, device)"
      ],
      "metadata": {
        "id": "elEcJTI_ZtC3"
      },
      "execution_count": null,
      "outputs": []
    },
    {
      "cell_type": "code",
      "source": [
        "#gpt\n",
        "import torch\n",
        "import random\n",
        "import matplotlib.pyplot as plt\n",
        "import numpy as np\n",
        "\n",
        "def plot_error_map(model, val_loader, device, num_samples=3):\n",
        "    \"\"\"\n",
        "    Visualize prediction vs ground truth with error map.\n",
        "    Green = TP, Red = FN, Blue = FP, Gray = TN\n",
        "    \"\"\"\n",
        "    model.eval()\n",
        "    data_list = list(val_loader)\n",
        "\n",
        "    for _ in range(num_samples):\n",
        "        # --- pick random batch and sample ---\n",
        "        images, masks = random.choice(data_list)\n",
        "        idx = random.randint(0, images.shape[0]-1)\n",
        "        image = images[idx:idx+1].to(device)\n",
        "        mask = masks[idx:idx+1].to(device)\n",
        "\n",
        "        with torch.no_grad():\n",
        "            output = model(image)\n",
        "            pred = (torch.sigmoid(output) > 0.5).float()\n",
        "\n",
        "        # Move to CPU for visualization\n",
        "        img_np = image[0].cpu().permute(1,2,0).numpy()\n",
        "        mask_np = mask[0,0].cpu().numpy()\n",
        "        pred_np = pred[0,0].cpu().numpy()\n",
        "\n",
        "        # --- Build error map ---\n",
        "        tp = (pred_np == 1) & (mask_np == 1)  # True Positive\n",
        "        fn = (pred_np == 0) & (mask_np == 1)  # False Negative\n",
        "        fp = (pred_np == 1) & (mask_np == 0)  # False Positive\n",
        "        tn = (pred_np == 0) & (mask_np == 0)  # True Negative\n",
        "\n",
        "        error_map = np.zeros((mask_np.shape[0], mask_np.shape[1], 3), dtype=np.uint8)\n",
        "        error_map[tp] = [0, 255, 0]      # Green for TP\n",
        "        error_map[fn] = [255, 0, 0]      # Red for FN\n",
        "        error_map[fp] = [0, 0, 255]      # Blue for FP\n",
        "        error_map[tn] = [128, 128, 128]  # Gray for TN\n",
        "\n",
        "        # --- Plotting ---\n",
        "        fig, axs = plt.subplots(1, 4, figsize=(18,6))\n",
        "        axs[0].imshow(img_np)\n",
        "        axs[0].set_title(\"Original Image\")\n",
        "        axs[0].axis('off')\n",
        "\n",
        "        axs[1].imshow(mask_np, cmap='gray')\n",
        "        axs[1].set_title(\"Ground Truth\")\n",
        "        axs[1].axis('off')\n",
        "\n",
        "        axs[2].imshow(pred_np, cmap='gray')\n",
        "        axs[2].set_title(\"Predicted Mask\")\n",
        "        axs[2].axis('off')\n",
        "\n",
        "        axs[3].imshow(error_map)\n",
        "        axs[3].set_title(\"Error Map\\n(Green=TP, Red=FN, Blue=FP, Gray=TN)\")\n",
        "        axs[3].axis('off')\n",
        "\n",
        "        plt.tight_layout()\n",
        "        plt.show()\n",
        "\n",
        "# --- How to call it ---\n",
        "plot_error_map(model, val_loader, device, num_samples=3)\n"
      ],
      "metadata": {
        "id": "HZzmyuKTZk7r"
      },
      "execution_count": null,
      "outputs": []
    },
    {
      "cell_type": "markdown",
      "source": [
        "## Overlays on images\n"
      ],
      "metadata": {
        "id": "nu03p8exf6rK"
      }
    },
    {
      "cell_type": "code",
      "source": [
        "import os\n",
        "import torch\n",
        "import numpy as np\n",
        "import matplotlib.pyplot as plt\n",
        "\n",
        "# --- Setup output folder ---\n",
        "overlay_dir = '/content/drive/MyDrive/colab_models/cloud_detection_overlays'\n",
        "os.makedirs(overlay_dir, exist_ok=True)\n",
        "\n",
        "model.eval()\n",
        "\n",
        "print(\"🔄 Generating overlays and saving to Drive...\")\n",
        "with torch.no_grad():\n",
        "    for idx, (images, masks) in enumerate(val_loader):\n",
        "        images = images.to(device, dtype=torch.float)\n",
        "        masks = masks.to(device, dtype=torch.float)\n",
        "        outputs = model(images)\n",
        "        preds = (torch.sigmoid(outputs) > 0.5).float().cpu()\n",
        "        masks = masks.cpu()\n",
        "        images = images.cpu()\n",
        "\n",
        "        for j in range(images.size(0)):\n",
        "            img_np = images[j].permute(1,2,0).numpy()\n",
        "            img_np = (img_np - img_np.min())/(img_np.max()-img_np.min())  # normalize for display\n",
        "\n",
        "            fig, ax = plt.subplots(1,3,figsize=(12,4))\n",
        "            ax[0].imshow(img_np)\n",
        "            ax[0].set_title('Original')\n",
        "            ax[1].imshow(masks[j,0], cmap='gray')\n",
        "            ax[1].set_title('Ground Truth')\n",
        "            ax[2].imshow(img_np)\n",
        "            ax[2].imshow(preds[j,0], cmap='jet', alpha=0.5)\n",
        "            ax[2].set_title('Prediction Overlay')\n",
        "            for a in ax: a.axis('off')\n",
        "\n",
        "            overlay_path = os.path.join(overlay_dir, f'overlay_{idx}_{j}.png')\n",
        "            plt.savefig(overlay_path, bbox_inches='tight', dpi=150)\n",
        "            plt.close()\n",
        "\n",
        "print(f\"✅ Overlays saved in: {overlay_dir}\")\n"
      ],
      "metadata": {
        "id": "8pZLmGeeZk0-"
      },
      "execution_count": null,
      "outputs": []
    },
    {
      "cell_type": "code",
      "source": [],
      "metadata": {
        "id": "rWBc95FfZkpD"
      },
      "execution_count": null,
      "outputs": []
    },
    {
      "cell_type": "code",
      "source": [],
      "metadata": {
        "id": "Lc3BKSAYVeKg"
      },
      "execution_count": null,
      "outputs": []
    }
  ]
}